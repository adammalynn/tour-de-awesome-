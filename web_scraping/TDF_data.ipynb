{
 "cells": [
  {
   "cell_type": "code",
   "execution_count": 29,
   "metadata": {},
   "outputs": [],
   "source": [
    "import requests\n",
    "import html5lib\n",
    "import pandas as pd\n",
    "from bs4 import BeautifulSoup\n",
    "import os\n",
    "import json\n",
    "import numpy as np\n",
    "import datetime"
   ]
  },
  {
   "cell_type": "code",
   "execution_count": 2,
   "metadata": {},
   "outputs": [],
   "source": [
    "# This is the base URL to get links to unstyled pages with the tables of data\n",
    "base_url = \"https://www.letour.fr\"\n",
    "# The DOM codes the results as such\n",
    "tab_dict = {'ite':'Stage',\n",
    "'itg':'General Classification'}\n",
    "# Or for easy iterating.\n",
    "short_list = ['ite','itg']"
   ]
  },
  {
   "cell_type": "code",
   "execution_count": 4,
   "metadata": {},
   "outputs": [],
   "source": [
    "stages = np.arange(1,2) #We can change the range to 1,22 to get all 21 stages. Testing 1 for now."
   ]
  },
  {
   "cell_type": "code",
   "execution_count": 8,
   "metadata": {},
   "outputs": [
    {
     "name": "stdout",
     "output_type": "stream",
     "text": [
      "https://www.letour.fr/en/rankings/stage-1\n"
     ]
    }
   ],
   "source": [
    "# This cell scrapes the page for stage 1 and extracts a list of raw URLs coded with the classification code\n",
    "# Scraping with requests and Beautiful Soup for the correct div.\n",
    "links_list = []\n",
    "start_url = f\"{base_url}/en/rankings/stage-{item}\" #URL to stage)\n",
    "print(start_url)\n",
    "for item in stages:\n",
    "    \n",
    "    page = requests.get(start_url)\n",
    "    if page.status_code == 200:\n",
    "        content = page.content\n",
    "        soup = BeautifulSoup(content, \"html5lib\")\n",
    "\n",
    "    #Pull out a specific block of code with two sets of coded URLs from the soup.\n",
    "        try:\n",
    "            all_links = soup.find_all(class_=\"tabs__link js-tabs-ranking\")\n",
    "            links_list.append(all_links)\n",
    "        except ElementDoesNotExist as e:\n",
    "            print(f\"That does not appear to be a valid results URL. {e}\")"
   ]
  },
  {
   "cell_type": "code",
   "execution_count": 10,
   "metadata": {},
   "outputs": [
    {
     "data": {
      "text/plain": [
       "[[<a class=\"tabs__link js-tabs-ranking\" data-ajax-stack='{\"itg\":\"\\/en\\/ajax\\/ranking\\/1\\/itg\\/bd845dfbbdf0630f11da790f0cad3096\\/none\",\"ipg\":\"\\/en\\/ajax\\/ranking\\/1\\/ipg\\/2e50858f0d77639053cc601af0b6cbdb\\/none\",\"etg\":\"\\/en\\/ajax\\/ranking\\/1\\/etg\\/f1b2d0eb8693db6e4027ff95deca603d\\/none\",\"img\":\"\\/en\\/ajax\\/ranking\\/1\\/img\\/d265b181815ffb4a503d6e0ed9506005\\/none\",\"ijg\":\"\\/en\\/ajax\\/ranking\\/1\\/ijg\\/ca5d1eea68fc753c67ebe11a618c2580\\/none\",\"icg\":\"\\/en\\/ajax\\/ranking\\/1\\/icg\\/5a819d202911cc09d579b429a8e2c43e\\/none\"}' data-type=\"g\" data-xtclick=\"ranking::tab::overall\" href=\"it\">General classification</a>,\n",
       "  <a class=\"tabs__link js-tabs-ranking\" data-ajax-stack='{\"ite\":\"\\/en\\/ajax\\/ranking\\/1\\/ite\\/72d3750b88cc75c1e386e3a8f55a9d96\\/none\",\"ipe\":\"\\/en\\/ajax\\/ranking\\/1\\/ipe\\/146f21c83187983073965fa20531ed94\\/none\",\"ete\":\"\\/en\\/ajax\\/ranking\\/1\\/ete\\/eac6423eb988564ee16aa681402f83e2\\/none\",\"ime\":\"\\/en\\/ajax\\/ranking\\/1\\/ime\\/e2baaa6161138846207204bd4e4f9146\\/none\",\"ije\":\"\\/en\\/ajax\\/ranking\\/1\\/ije\\/d60ac3c78831b56f2d91d5d4111132dd\\/none\",\"ice\":\"\\/en\\/ajax\\/ranking\\/1\\/ice\\/c0e341ec9af94bd2f071434d33fa2014\\/none\"}' data-type=\"e\" data-xtclick=\"ranking::tab::stage\" href=\"it\">Stage classification</a>]]"
      ]
     },
     "execution_count": 10,
     "metadata": {},
     "output_type": "execute_result"
    }
   ],
   "source": [
    "# Take a look at that ugliness. We can extract just the stage results (ite) or overall ranking (itg)\n",
    "links_list"
   ]
  },
  {
   "cell_type": "code",
   "execution_count": 13,
   "metadata": {},
   "outputs": [
    {
     "name": "stdout",
     "output_type": "stream",
     "text": [
      "https://www.letour.fr/en/ajax/ranking/1/ite/72d3750b88cc75c1e386e3a8f55a9d96/none ite\n"
     ]
    }
   ],
   "source": [
    "# Parsing out the list of json-ish links from the DOM into a dictionary of functional URLs\n",
    "\n",
    "url_dict = {}\n",
    "\n",
    "for item in all_links:\n",
    "    myurl = item['data-ajax-stack']\n",
    "    #clean up the code into a useable URL\n",
    "    myurl = myurl.replace('\\/', '/')\n",
    "    myurls = json.loads(myurl)\n",
    "    for key, value in myurls.items():\n",
    "        url_dict[key] = f\"{base_url}{value}\"\n",
    "# TODO loop through each stage and get the results. For now just look at a single stage, not any more or other results\n",
    "for key, value in url_dict.items():\n",
    "    try:\n",
    "        if key == 'ite':\n",
    "            myurl = value #This would change to adding the list of URLs to a list or dictionary later.\n",
    "            print(value, key)\n",
    "    except KeyError:\n",
    "        pass"
   ]
  },
  {
   "cell_type": "code",
   "execution_count": 24,
   "metadata": {},
   "outputs": [],
   "source": [
    "# Go to the link parsed out of the DOM and it is a plain URL page with a single, nested table\n",
    "# table_list = [] #Not used here, we will have to append the data to a list or do a direct load to SQL database from here\n",
    "try:\n",
    "    table = pd.read_html(myurl)\n",
    "    df = table[0] #Change this when we start iterating\n",
    "except KeyError:\n",
    "    pass\n"
   ]
  },
  {
   "cell_type": "code",
   "execution_count": 26,
   "metadata": {},
   "outputs": [
    {
     "data": {
      "text/html": [
       "<div>\n",
       "<style scoped>\n",
       "    .dataframe tbody tr th:only-of-type {\n",
       "        vertical-align: middle;\n",
       "    }\n",
       "\n",
       "    .dataframe tbody tr th {\n",
       "        vertical-align: top;\n",
       "    }\n",
       "\n",
       "    .dataframe thead th {\n",
       "        text-align: right;\n",
       "    }\n",
       "</style>\n",
       "<table border=\"1\" class=\"dataframe\">\n",
       "  <thead>\n",
       "    <tr style=\"text-align: right;\">\n",
       "      <th></th>\n",
       "      <th>Rank</th>\n",
       "      <th>Rider</th>\n",
       "      <th>Rider No.</th>\n",
       "      <th>Team</th>\n",
       "      <th>Times</th>\n",
       "      <th>Gap</th>\n",
       "      <th>B</th>\n",
       "      <th>P</th>\n",
       "    </tr>\n",
       "  </thead>\n",
       "  <tbody>\n",
       "    <tr>\n",
       "      <th>0</th>\n",
       "      <td>1</td>\n",
       "      <td>FERNANDO GAVIRIA RENDON</td>\n",
       "      <td>103</td>\n",
       "      <td>QUICK - STEP FLOORS</td>\n",
       "      <td>04h 23' 32''</td>\n",
       "      <td>-</td>\n",
       "      <td>B : 10''</td>\n",
       "      <td>-</td>\n",
       "    </tr>\n",
       "    <tr>\n",
       "      <th>1</th>\n",
       "      <td>2</td>\n",
       "      <td>PETER SAGAN</td>\n",
       "      <td>111</td>\n",
       "      <td>BORA - HANSGROHE</td>\n",
       "      <td>04h 23' 32''</td>\n",
       "      <td>-</td>\n",
       "      <td>B : 6''</td>\n",
       "      <td>-</td>\n",
       "    </tr>\n",
       "    <tr>\n",
       "      <th>2</th>\n",
       "      <td>3</td>\n",
       "      <td>MARCEL KITTEL</td>\n",
       "      <td>144</td>\n",
       "      <td>TEAM KATUSHA ALPECIN</td>\n",
       "      <td>04h 23' 32''</td>\n",
       "      <td>-</td>\n",
       "      <td>B : 4''</td>\n",
       "      <td>-</td>\n",
       "    </tr>\n",
       "    <tr>\n",
       "      <th>3</th>\n",
       "      <td>4</td>\n",
       "      <td>ALEXANDER KRISTOFF</td>\n",
       "      <td>95</td>\n",
       "      <td>UAE TEAM EMIRATES</td>\n",
       "      <td>04h 23' 32''</td>\n",
       "      <td>-</td>\n",
       "      <td>-</td>\n",
       "      <td>-</td>\n",
       "    </tr>\n",
       "    <tr>\n",
       "      <th>4</th>\n",
       "      <td>5</td>\n",
       "      <td>CHRISTOPHE LAPORTE</td>\n",
       "      <td>201</td>\n",
       "      <td>COFIDIS, SOLUTIONS CREDITS</td>\n",
       "      <td>04h 23' 32''</td>\n",
       "      <td>-</td>\n",
       "      <td>-</td>\n",
       "      <td>-</td>\n",
       "    </tr>\n",
       "  </tbody>\n",
       "</table>\n",
       "</div>"
      ],
      "text/plain": [
       "   Rank                    Rider  Rider No.                        Team  \\\n",
       "0     1  FERNANDO GAVIRIA RENDON        103         QUICK - STEP FLOORS   \n",
       "1     2              PETER SAGAN        111            BORA - HANSGROHE   \n",
       "2     3            MARCEL KITTEL        144        TEAM KATUSHA ALPECIN   \n",
       "3     4       ALEXANDER KRISTOFF         95           UAE TEAM EMIRATES   \n",
       "4     5       CHRISTOPHE LAPORTE        201  COFIDIS, SOLUTIONS CREDITS   \n",
       "\n",
       "          Times Gap         B  P  \n",
       "0  04h 23' 32''   -  B : 10''  -  \n",
       "1  04h 23' 32''   -   B : 6''  -  \n",
       "2  04h 23' 32''   -   B : 4''  -  \n",
       "3  04h 23' 32''   -         -  -  \n",
       "4  04h 23' 32''   -         -  -  "
      ]
     },
     "execution_count": 26,
     "metadata": {},
     "output_type": "execute_result"
    }
   ],
   "source": [
    "df.head()"
   ]
  },
  {
   "cell_type": "code",
   "execution_count": 28,
   "metadata": {},
   "outputs": [
    {
     "data": {
      "text/html": [
       "<div>\n",
       "<style scoped>\n",
       "    .dataframe tbody tr th:only-of-type {\n",
       "        vertical-align: middle;\n",
       "    }\n",
       "\n",
       "    .dataframe tbody tr th {\n",
       "        vertical-align: top;\n",
       "    }\n",
       "\n",
       "    .dataframe thead th {\n",
       "        text-align: right;\n",
       "    }\n",
       "</style>\n",
       "<table border=\"1\" class=\"dataframe\">\n",
       "  <thead>\n",
       "    <tr style=\"text-align: right;\">\n",
       "      <th></th>\n",
       "      <th>Rank</th>\n",
       "      <th>Rider</th>\n",
       "      <th>Rider No.</th>\n",
       "      <th>Team</th>\n",
       "      <th>Times</th>\n",
       "      <th>Gap</th>\n",
       "      <th>B</th>\n",
       "      <th>P</th>\n",
       "      <th>Result</th>\n",
       "    </tr>\n",
       "  </thead>\n",
       "  <tbody>\n",
       "    <tr>\n",
       "      <th>0</th>\n",
       "      <td>1</td>\n",
       "      <td>FERNANDO GAVIRIA RENDON</td>\n",
       "      <td>103</td>\n",
       "      <td>QUICK - STEP FLOORS</td>\n",
       "      <td>04h 23' 32''</td>\n",
       "      <td>-</td>\n",
       "      <td>B : 10''</td>\n",
       "      <td>-</td>\n",
       "      <td>04:23:32</td>\n",
       "    </tr>\n",
       "    <tr>\n",
       "      <th>1</th>\n",
       "      <td>2</td>\n",
       "      <td>PETER SAGAN</td>\n",
       "      <td>111</td>\n",
       "      <td>BORA - HANSGROHE</td>\n",
       "      <td>04h 23' 32''</td>\n",
       "      <td>-</td>\n",
       "      <td>B : 6''</td>\n",
       "      <td>-</td>\n",
       "      <td>04:23:32</td>\n",
       "    </tr>\n",
       "    <tr>\n",
       "      <th>2</th>\n",
       "      <td>3</td>\n",
       "      <td>MARCEL KITTEL</td>\n",
       "      <td>144</td>\n",
       "      <td>TEAM KATUSHA ALPECIN</td>\n",
       "      <td>04h 23' 32''</td>\n",
       "      <td>-</td>\n",
       "      <td>B : 4''</td>\n",
       "      <td>-</td>\n",
       "      <td>04:23:32</td>\n",
       "    </tr>\n",
       "    <tr>\n",
       "      <th>3</th>\n",
       "      <td>4</td>\n",
       "      <td>ALEXANDER KRISTOFF</td>\n",
       "      <td>95</td>\n",
       "      <td>UAE TEAM EMIRATES</td>\n",
       "      <td>04h 23' 32''</td>\n",
       "      <td>-</td>\n",
       "      <td>-</td>\n",
       "      <td>-</td>\n",
       "      <td>04:23:32</td>\n",
       "    </tr>\n",
       "    <tr>\n",
       "      <th>4</th>\n",
       "      <td>5</td>\n",
       "      <td>CHRISTOPHE LAPORTE</td>\n",
       "      <td>201</td>\n",
       "      <td>COFIDIS, SOLUTIONS CREDITS</td>\n",
       "      <td>04h 23' 32''</td>\n",
       "      <td>-</td>\n",
       "      <td>-</td>\n",
       "      <td>-</td>\n",
       "      <td>04:23:32</td>\n",
       "    </tr>\n",
       "  </tbody>\n",
       "</table>\n",
       "</div>"
      ],
      "text/plain": [
       "   Rank                    Rider  Rider No.                        Team  \\\n",
       "0     1  FERNANDO GAVIRIA RENDON        103         QUICK - STEP FLOORS   \n",
       "1     2              PETER SAGAN        111            BORA - HANSGROHE   \n",
       "2     3            MARCEL KITTEL        144        TEAM KATUSHA ALPECIN   \n",
       "3     4       ALEXANDER KRISTOFF         95           UAE TEAM EMIRATES   \n",
       "4     5       CHRISTOPHE LAPORTE        201  COFIDIS, SOLUTIONS CREDITS   \n",
       "\n",
       "          Times Gap         B  P    Result  \n",
       "0  04h 23' 32''   -  B : 10''  -  04:23:32  \n",
       "1  04h 23' 32''   -   B : 6''  -  04:23:32  \n",
       "2  04h 23' 32''   -   B : 4''  -  04:23:32  \n",
       "3  04h 23' 32''   -         -  -  04:23:32  \n",
       "4  04h 23' 32''   -         -  -  04:23:32  "
      ]
     },
     "execution_count": 28,
     "metadata": {},
     "output_type": "execute_result"
    }
   ],
   "source": [
    "# Probably easiest to just reformat those times in Pandas\n",
    "df['Result'] = df['Times'].str.replace('h ', ':').str.replace('\\'\\'', '').str.replace('\\' ',':')\n",
    "df.head()"
   ]
  },
  {
   "cell_type": "code",
   "execution_count": null,
   "metadata": {},
   "outputs": [],
   "source": [
    "# We need to reformat the Result column, so we could use the datetime function to convert it to seconds for easy\n",
    "# calculations later on. Here's an example I found on stackoverflow\n",
    "# https://stackoverflow.com/questions/6402812/how-to-convert-an-hmmss-time-string-to-seconds-in-python\n",
    "# t = '10:15:30'\n",
    "# h,m,s = t.split(':')\n",
    "# print(int(datetime.timedelta(hours=int(h),minutes=int(m),seconds=int(s)).total_seconds()))"
   ]
  },
  {
   "cell_type": "code",
   "execution_count": null,
   "metadata": {},
   "outputs": [],
   "source": [
    "# From the Pandas documentation, here's the options for Pandas to_json \n",
    "# https://pandas.pydata.org/pandas-docs/stable/reference/api/pandas.DataFrame.to_json.html\n",
    "# df.to_json(path_or_buf=None, orient=None, date_format=None, double_precision=10, \n",
    "# force_ascii=True, date_unit='ms', default_handler=None, lines=False, compression='infer', index=True"
   ]
  },
  {
   "cell_type": "code",
   "execution_count": null,
   "metadata": {},
   "outputs": [],
   "source": [
    "# We could output the data to CSV or json here\n",
    "#     tables = pd.read_html(url)\n",
    "#     with open(f'output.csv','a+') as output:\n",
    "#         for i in tables:\n",
    "#             i.to_csv(output, header=False, sep = \"\\t\", index_label=False)"
   ]
  }
 ],
 "metadata": {
  "kernelspec": {
   "display_name": "Python 3",
   "language": "python",
   "name": "python3"
  },
  "language_info": {
   "codemirror_mode": {
    "name": "ipython",
    "version": 3
   },
   "file_extension": ".py",
   "mimetype": "text/x-python",
   "name": "python",
   "nbconvert_exporter": "python",
   "pygments_lexer": "ipython3",
   "version": "3.7.0"
  }
 },
 "nbformat": 4,
 "nbformat_minor": 2
}
